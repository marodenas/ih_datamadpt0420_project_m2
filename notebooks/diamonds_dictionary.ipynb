{
 "cells": [
  {
   "cell_type": "markdown",
   "metadata": {},
   "source": [
    "## Diamons' Dictionary\n",
    "\n"
   ]
  },
  {
   "cell_type": "markdown",
   "metadata": {},
   "source": [
    "#### **Carat Weight (Carats)**\n",
    "\n",
    "A unit of measurement used to weigh diamonds, derived from the ancient word \"Carob\". One carat equals 100 points.\n",
    "- 1 carat is equal to 200 miligrams (1/5th of a gram)\n",
    "- 5 carats equal 1 gram.\n",
    "- One Carat is equal to .007 ounces.\n",
    "- 141.7 carats equal 1 ounce.\n",
    "\n",
    "Two important notes are :\n",
    "1) An increase in carat weight will mean an increase in depth as well as diameter-that is why a 1 carat diamond (approximately 6.5mm diameter) will not appear twice as wide as a 1/2 carat diamond (approximately 5.0mm diameter).\n",
    "\n",
    "2) The larger a diamond is, the more rare it is. This means that the price per carat increases exponentially when comparing diamonds of the same quality. For example: A 2 carat diamond may cost 4 times as much as a 1 carat diamond instead of just twice as much. Or a 3 carat diamond may cost 9 times as much as a 1 carat diamond instead of just 3 times as much, and so-on.\n",
    "\n",
    "\n",
    "**The cut of the diamond**\n",
    "\n",
    "The first of the “4Cs” is the “cut” of a diamond which refers to both its cut shape and its cut quality. Indeed, in order to calculate the price of a diamond, we need to know its cut shape: is it round brilliant, emerald, princess, etc. ? This criteria is easy to determine as you only need to look at a diamond in order to identify the shape of the stone’s cut. While it is easy to determine the cut shape of a diamond, it is not so easy to determine if this diamond has the right dimensions, is well-proportioned: if it has a good cut quality. Certain devices are needed to assess this cut quality and to determine whether or not the stone has good proportions.\n",
    "\n",
    "It should be noted that the price of a round brilliant diamond will be higher than other diamond cuts. Indeed, the round brilliant cut is the most popular shape of diamond, with the other shapes, known as “fancy cut” diamonds, much less sought-after. As the diamond market is based on supply and demand, it follows that the value of a brilliant diamond is higher than the other shapes.\n",
    "The carat weight\n",
    "\n",
    "**The second of the “4Cs” is the carat weight of the diamond which is expressed in carats: 1 carat = 0.20 gram.**\n",
    "\n",
    "Carat scales are used to weigh the diamond but they can also be used to weigh precious stones and gemstones. These scales must be sufficiently accurate, to at least one tenth of a carat.\n",
    "\n",
    "The weight of the stone has a direct effect on its value, the greater it is, the higher its value.\n",
    "\n",
    "The value of a 1 carat diamond will not be twice that of a 0.50 carat diamond as price is not proportional to weight. Diamond merchants use the Rapaport price list to calculate the price of diamonds. This list is divided into different price grids according to the carat of the diamond, for example there is a price list for 0.40 to 0.49 carat and another one for 0.50 to 0.59 carat. The carat price increases with every change of grid.\n",
    "\n",
    "The price is always calculated according to the carat weight of the stone. For example, a 0.65 carat G VS2 brilliant cut diamond will have a slightly higher value than a 0.63 carat G VS2 brilliant cut diamond. But watch out for a change of grid - for example, the price of a 0.99 carat D VVS2 round cut diamond is not the same as that of a 1 carat D VVS2 round cut diamond, as these two weights are not in the same grid. The prices per carat will therefore not be equal and the difference in value between these 2 stones will be much greater than if we compared the value of a 0.98 carat D VVS2 and a 0.99 carat D VVS2 (they also have a difference of one hundredth of a carat but their carat weight falls within the same price grid).\n",
    "\n",
    "The caret used to weight gemstones has nothing to do with the carat used in the jewelry industry.\n",
    "\n",
    "Our price simulator above will help you understand the price of this precious stone for weights between 0.20 and 5.99 carats.\n",
    "The color of the diamond\n",
    "\n",
    "**The third of the “4Cs” is the color and/or hue of the diamond.**\n",
    "\n",
    "The color has a great effect on the value of diamonds and diamond experts have created a color grade scale starting at the letter D right through to the letter Z. Therefore, the further down the scale you go, the lower the value of the diamond.\n",
    "\n",
    "The best color, or highest grade, is therefore the letter “D” (“D” for “D”iamond). A D-color diamond is absolutely colorless, whereas a Z-color diamond will have a yellow hue that is very visible to the human eye. Therefore, the further down the scale you go, the more of a yellow hue the diamond will have.\n",
    "\n",
    "Gemmology laboratories use master stones to compare and determine the color grade of the diamonds they are analyzing. The color of these stones has been calibrated and you simply place one of these calibrated stones next to the stone being tested to determine the color grade of the diamond being analyzed. If the 2 stones do not have the same hue, the stone is changed for another one until the 2 stones have exactly the same hue.\n",
    "\n",
    "This criteria is therefore fairly subjective as a diamond expert’s eye determines the color grade of the diamond they are analyzing and if they are tired or distracted they could make a mistake. Not to mention convenience laboratories that may record fancy colors on their diamond report to please a “friend” who has given them their diamond to analyze. That is why diamond experts only recommend 3 gemological laboratories, namely: the GIA, HRD or IGI).\n",
    "\n",
    "If you look at the difference in price between 2 identical diamonds that have been given a different color grade, it is easy to understand the economic interests at stake. Let’s take a 1 carat round brilliant diamond graded color D and clarity IF and compare its value to a 1 carat round brilliant diamond graded color E and clarity IF: the price difference between these 2 diamonds will be -22.86%, which is very significant for 2 diamonds of the same carat and clarity. There is only one color grade between these 2 stones and yet their value is completely different. Furthermore, this difference in color between a D and an E is invisible to the human eye and you need master (comparison) stones in order to be able to see this slight variation in tone.\n",
    "\n",
    "Let’s take another example: a 1 carat, round brilliant diamond graded color D and clarity IF and compare its value to a 1 carat, round brilliant diamond graded color H and clarity IF: the price difference between these 2 diamonds will be -52.00%, which is even greater than our previous example. Its value is almost half even though the carat and clarity are identical.\n",
    "\n",
    "\n",
    "\n",
    "#### **Clarity**\n",
    "\n",
    "The last of the “4Cs” is the clarity grade of the diamond for which, as with color, diamond experts have created a clarity scale against which they can grade the diamonds.\n",
    "\n",
    "A magnifying glass with 10 times magnification (10x lens) is used in order to see the inclusions (natural blemishes) present in the diamond. An expert certified in gemmology looks at the diamond under the 10x magnifying glass in order to count and position the inclusions present in the diamond. The more inclusions a diamond has, the lower its value. The most ought-after diamonds are those whose inclusions cannot be seen at ten times magnification: these are Flawless (FL) and Internally Flawless (IF) diamonds. Conversely, P1, P2 and P3 diamonds are the least valued as their inclusions are visible to the human eye.\n",
    "\n",
    "Now let’s compare the price of two diamonds of identical cut, carat and color but with different clarity grades. Let’s take a 1.50 carat princess diamond graded color D and clarity IF and compare its value to a 1.50 carat princess diamond graded color D and clarity VVS1: the price difference between these 2 diamonds will be -11.61%, which is not insignificant. If we put these 2 diamonds alongside each other you would not be able to see the difference in clarity grade and yet their value is not the same.\n",
    "\n",
    "Let’s take one last example and compare a 1.50 carat princess diamond graded color D and clarity VVS1 with a 1.50 carat princess diamond graded color D and clarity VS2: the price difference will be -38.06%.\n"
   ]
  },
  {
   "cell_type": "markdown",
   "metadata": {},
   "source": [
    "#### **Table**\n",
    "\n",
    "The table refracts rays of light as they pass, directing them to the facets that make the diamond look so sparkly.\n",
    "\n",
    "The physical size of the table facet naturally varies depending on the overall size of the diamond. That’s why jewelers measure the table percentage when grading a diamond’s cut.  Table percentage is calculated by dividing the width of the table by the overall width of the diamond."
   ]
  },
  {
   "cell_type": "markdown",
   "metadata": {},
   "source": [
    "#### **Depth**\n",
    "\n",
    "\n",
    "The depth of a diamond might also be called the “height”: it is the distance from the table to the culet (the pointed tip) of the diamond.\n",
    "\n",
    "Like with a diamond’s table, jewelers grade a diamond’s depth based on its depth percentage. Depth percentage is the diamond’s depth divided by the width of the diamond. This percentage dictates the overall proportions of the diamond, which in turn directly impact how light reflects off the facets in the stone."
   ]
  },
  {
   "cell_type": "code",
   "execution_count": null,
   "metadata": {},
   "outputs": [],
   "source": []
  }
 ],
 "metadata": {
  "kernelspec": {
   "display_name": "Python [conda env:jupyter_env] *",
   "language": "python",
   "name": "conda-env-jupyter_env-py"
  },
  "language_info": {
   "codemirror_mode": {
    "name": "ipython",
    "version": 3
   },
   "file_extension": ".py",
   "mimetype": "text/x-python",
   "name": "python",
   "nbconvert_exporter": "python",
   "pygments_lexer": "ipython3",
   "version": "3.7.7"
  }
 },
 "nbformat": 4,
 "nbformat_minor": 4
}
